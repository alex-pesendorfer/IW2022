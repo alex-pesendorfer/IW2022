{
 "cells": [
  {
   "cell_type": "code",
   "execution_count": 1,
   "id": "b19587b0-d2e5-4ff4-aaeb-3c3fd7902b5d",
   "metadata": {},
   "outputs": [],
   "source": [
    "import os\n",
    "import math\n",
    "from typing import Optional, Tuple, List, Union, Callable\n",
    "\n",
    "import numpy as np\n",
    "import torch\n",
    "from torch import nn\n",
    "import matplotlib.pyplot as plt\n",
    "from mpl_toolkits.mplot3d import axes3d\n",
    "from tqdm import trange"
   ]
  },
  {
   "cell_type": "code",
   "execution_count": 10,
   "id": "dcf83ac0-1408-432a-8647-c918b31adb3d",
   "metadata": {},
   "outputs": [],
   "source": [
    "# CTNeRF\n",
    "a = [19.011642456054688, 18.631595611572266, 18.480260848999023, 18.253990173339844, 16.9443359375, 16.549787521362305, 16.986026763916016, 17.269119262695312, 15.897290229797363, 15.445791244506836, 14.453510284423828, 12.790962219238281]\n",
    "b = [21.333070755004883, 21.67227554321289, 21.572742462158203, 21.863800048828125, 21.54080581665039, 21.46639633178711, 20.92932891845703, 19.324844360351562, 17.243040084838867, 16.42193603515625, 16.706878662109375, 17.073997497558594]\n",
    "c = [16.71534538269043, 16.18365478515625, 15.403648376464844, 14.913143157958984, 14.754627227783203, 14.124198913574219, 13.701173782348633, 12.941650390625, 12.019588470458984, 10.457451820373535, 10.687707901000977, 11.420085906982422]\n",
    "a = a + b + c"
   ]
  },
  {
   "cell_type": "code",
   "execution_count": 12,
   "id": "e8dfb296-e1d6-426b-b2c7-76f274dc56df",
   "metadata": {},
   "outputs": [
    {
     "data": {
      "text/plain": [
       "16.69960292180379"
      ]
     },
     "execution_count": 12,
     "metadata": {},
     "output_type": "execute_result"
    }
   ],
   "source": [
    "np.mean(a)"
   ]
  },
  {
   "cell_type": "code",
   "execution_count": 13,
   "id": "880df3a4-c10f-4389-b429-e2911a6d37b7",
   "metadata": {},
   "outputs": [
    {
     "data": {
      "text/plain": [
       "3.2028999217953884"
      ]
     },
     "execution_count": 13,
     "metadata": {},
     "output_type": "execute_result"
    }
   ],
   "source": [
    "np.std(a)"
   ]
  },
  {
   "cell_type": "code",
   "execution_count": 14,
   "id": "b011951f-615c-4167-b83d-91a09f71ab7f",
   "metadata": {},
   "outputs": [],
   "source": [
    "# NeRF\n",
    "e = [20.304391860961914, 19.674938201904297, 19.373382568359375, 19.064929962158203, 19.32646942138672, 18.936798095703125, 19.167278289794922, 17.673343658447266, 17.569198608398438, 16.37587547302246, 14.904438018798828, 15.03138542175293]\n",
    "f = [26.55679702758789, 26.287372589111328, 25.829383850097656, 25.766538619995117, 25.45807647705078, 24.00973892211914, 23.66570281982422, 21.772232055664062, 19.779319763183594, 17.152772903442383, 18.31831169128418, 20.60064697265625]\n",
    "g = [22.262235641479492, 21.940174102783203, 21.58603286743164, 20.656375885009766, 19.5716552734375, 18.451705932617188, 16.10024070739746, 15.48870849609375, 14.437484741210938, 13.014063835144043, 10.435491561889648, 11.724291801452637]\n",
    "e = e + f + g"
   ]
  },
  {
   "cell_type": "code",
   "execution_count": 15,
   "id": "a3c85b38-c514-4573-920f-18dd8ffea281",
   "metadata": {},
   "outputs": [
    {
     "data": {
      "text/plain": [
       "19.39632733662923"
      ]
     },
     "execution_count": 15,
     "metadata": {},
     "output_type": "execute_result"
    }
   ],
   "source": [
    "np.mean(e)"
   ]
  },
  {
   "cell_type": "code",
   "execution_count": 16,
   "id": "67426336-ee00-426d-8745-8d02209c11ab",
   "metadata": {},
   "outputs": [
    {
     "data": {
      "text/plain": [
       "4.010268875730811"
      ]
     },
     "execution_count": 16,
     "metadata": {},
     "output_type": "execute_result"
    }
   ],
   "source": [
    "np.std(e)"
   ]
  },
  {
   "cell_type": "code",
   "execution_count": null,
   "id": "9fd93868-cf71-4479-ad7d-109ab0d81cba",
   "metadata": {},
   "outputs": [],
   "source": []
  }
 ],
 "metadata": {
  "kernelspec": {
   "display_name": "Python 3 (ipykernel)",
   "language": "python",
   "name": "python3"
  },
  "language_info": {
   "codemirror_mode": {
    "name": "ipython",
    "version": 3
   },
   "file_extension": ".py",
   "mimetype": "text/x-python",
   "name": "python",
   "nbconvert_exporter": "python",
   "pygments_lexer": "ipython3",
   "version": "3.9.13"
  }
 },
 "nbformat": 4,
 "nbformat_minor": 5
}
