{
 "cells": [
  {
   "cell_type": "code",
   "execution_count": 1,
   "id": "b19587b0-d2e5-4ff4-aaeb-3c3fd7902b5d",
   "metadata": {},
   "outputs": [],
   "source": [
    "import os\n",
    "import math\n",
    "from typing import Optional, Tuple, List, Union, Callable\n",
    "\n",
    "import numpy as np\n",
    "import torch\n",
    "from torch import nn\n",
    "import matplotlib.pyplot as plt\n",
    "from mpl_toolkits.mplot3d import axes3d\n",
    "from tqdm import trange"
   ]
  },
  {
   "cell_type": "code",
   "execution_count": 2,
   "id": "dcf83ac0-1408-432a-8647-c918b31adb3d",
   "metadata": {},
   "outputs": [],
   "source": [
    "# CTNeRF\n",
    "a = [24.797807693481445, 24.45514678955078, 24.576557159423828, 24.605266571044922, 24.627216339111328, 24.4609317779541, 23.965185165405273, 23.922969818115234, 23.910873413085938, 23.452165603637695, 23.676240921020508, 24.205501556396484]\n",
    "b = [25.093793869018555, 25.134355545043945, 25.021671295166016, 25.063879013061523, 25.148012161254883, 25.067888259887695, 25.393911361694336, 24.84983253479004, 24.86513900756836, 24.788330078125, 24.850732803344727, 24.887739181518555]\n",
    "c = [21.184537887573242, 21.375083923339844, 21.360668182373047, 21.358253479003906, 21.490415573120117, 21.663145065307617, 21.495901107788086, 22.282564163208008, 22.624488830566406, 23.146270751953125, 23.044631958007812, 23.344690322875977]\n",
    "a = a + b + c"
   ]
  },
  {
   "cell_type": "code",
   "execution_count": 3,
   "id": "e8dfb296-e1d6-426b-b2c7-76f274dc56df",
   "metadata": {},
   "outputs": [
    {
     "data": {
      "text/plain": [
       "23.75532775455051"
      ]
     },
     "execution_count": 3,
     "metadata": {},
     "output_type": "execute_result"
    }
   ],
   "source": [
    "np.mean(a)"
   ]
  },
  {
   "cell_type": "code",
   "execution_count": 4,
   "id": "880df3a4-c10f-4389-b429-e2911a6d37b7",
   "metadata": {},
   "outputs": [
    {
     "data": {
      "text/plain": [
       "1.362426869286797"
      ]
     },
     "execution_count": 4,
     "metadata": {},
     "output_type": "execute_result"
    }
   ],
   "source": [
    "np.std(a)"
   ]
  },
  {
   "cell_type": "code",
   "execution_count": 5,
   "id": "b011951f-615c-4167-b83d-91a09f71ab7f",
   "metadata": {},
   "outputs": [],
   "source": [
    "# NeRF\n",
    "e = [28.215295791625977, 28.067079544067383, 28.22092056274414, 28.479780197143555, 28.56800651550293, 28.385704040527344, 28.550003051757812, 27.374492645263672, 27.9019775390625, 26.74983024597168, 25.71489143371582, 25.10416603088379]\n",
    "f = [29.874990463256836, 29.791698455810547, 29.53117561340332, 29.289608001708984, 28.994834899902344, 28.664926528930664, 28.18027687072754, 27.6214542388916, 26.504108428955078, 26.354379653930664, 28.31707000732422, 30.58867835998535]\n",
    "g = [27.81424331665039, 27.85845375061035, 28.065963745117188, 27.743560791015625, 27.567283630371094, 27.028486251831055, 25.325881958007812, 25.532426834106445, 25.43677520751953, 25.514617919921875, 23.78197479248047, 24.84933853149414]\n",
    "e = e + f + g"
   ]
  },
  {
   "cell_type": "code",
   "execution_count": 6,
   "id": "a3c85b38-c514-4573-920f-18dd8ffea281",
   "metadata": {},
   "outputs": [
    {
     "data": {
      "text/plain": [
       "27.54345432917277"
      ]
     },
     "execution_count": 6,
     "metadata": {},
     "output_type": "execute_result"
    }
   ],
   "source": [
    "np.mean(e)"
   ]
  },
  {
   "cell_type": "code",
   "execution_count": 7,
   "id": "67426336-ee00-426d-8745-8d02209c11ab",
   "metadata": {},
   "outputs": [
    {
     "data": {
      "text/plain": [
       "1.5654359737182784"
      ]
     },
     "execution_count": 7,
     "metadata": {},
     "output_type": "execute_result"
    }
   ],
   "source": [
    "np.std(e)"
   ]
  },
  {
   "cell_type": "code",
   "execution_count": null,
   "id": "9fd93868-cf71-4479-ad7d-109ab0d81cba",
   "metadata": {},
   "outputs": [],
   "source": []
  }
 ],
 "metadata": {
  "kernelspec": {
   "display_name": "Python 3 (ipykernel)",
   "language": "python",
   "name": "python3"
  },
  "language_info": {
   "codemirror_mode": {
    "name": "ipython",
    "version": 3
   },
   "file_extension": ".py",
   "mimetype": "text/x-python",
   "name": "python",
   "nbconvert_exporter": "python",
   "pygments_lexer": "ipython3",
   "version": "3.9.13"
  }
 },
 "nbformat": 4,
 "nbformat_minor": 5
}
