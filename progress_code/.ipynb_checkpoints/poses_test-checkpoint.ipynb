{
 "cells": [
  {
   "cell_type": "code",
   "execution_count": 1,
   "id": "d1f22947-60c2-4e6f-ac5b-fc73a1d164bf",
   "metadata": {},
   "outputs": [],
   "source": [
    "def get_render_poses(radius, num_volumes, angle_range=(0, 360), theta=0, N=40, swap_angles=False):\n",
    "    poses = []\n",
    "    theta = max(0.1, theta)\n",
    "    for i in range(num_volumes):\n",
    "        for angle in np.linspace(angle_range[0],angle_range[1],N+1)[:-1]:\n",
    "            angle = max(0.1, angle)\n",
    "            # print(angle)\n",
    "            if swap_angles:\n",
    "                loc = polar_to_cartesian(radius, theta, angle, deg=True)\n",
    "            else:\n",
    "                loc = polar_to_cartesian(radius, angle, theta, deg=True)\n",
    "            R = look_at(loc)[0]\n",
    "            RT = np.concatenate([R, loc.reshape(3, 1)], axis=1)\n",
    "            # print(RT)\n",
    "            # print(angle)\n",
    "            newrow = [0, 0, 0, 1]\n",
    "            RT = np.vstack([RT, newrow])\n",
    "            poses.append(RT)\n",
    "            # print(RT)\n",
    "    return torch.from_numpy(np.stack(poses))"
   ]
  },
  {
   "cell_type": "code",
   "execution_count": null,
   "id": "894de49d-554a-4df6-9d41-a833228e3d43",
   "metadata": {},
   "outputs": [],
   "source": [
    "render_radius = 9.5\n",
    "num_volumes = 1\n",
    "N = 72\n",
    "render_poses = get_render_poses(render_radius, num_volumes, angle_range=angle_range, theta=theta, N=N)"
   ]
  }
 ],
 "metadata": {
  "kernelspec": {
   "display_name": "Python 3 (ipykernel)",
   "language": "python",
   "name": "python3"
  },
  "language_info": {
   "codemirror_mode": {
    "name": "ipython",
    "version": 3
   },
   "file_extension": ".py",
   "mimetype": "text/x-python",
   "name": "python",
   "nbconvert_exporter": "python",
   "pygments_lexer": "ipython3",
   "version": "3.9.13"
  }
 },
 "nbformat": 4,
 "nbformat_minor": 5
}
